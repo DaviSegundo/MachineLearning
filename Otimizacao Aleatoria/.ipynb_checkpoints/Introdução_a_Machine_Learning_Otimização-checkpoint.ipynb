{
 "cells": [
  {
   "cell_type": "code",
   "execution_count": 1,
   "metadata": {},
   "outputs": [],
   "source": [
    "import os\n",
    "os.environ[\"PATH\"] += os.pathsep + 'C:/Users/Cliente/anaconda3/Library/bin/graphviz'"
   ]
  },
  {
   "cell_type": "code",
   "execution_count": 2,
   "metadata": {
    "colab": {},
    "colab_type": "code",
    "id": "y7ik04NlDZMA"
   },
   "outputs": [
    {
     "data": {
      "text/html": [
       "<div>\n",
       "<style scoped>\n",
       "    .dataframe tbody tr th:only-of-type {\n",
       "        vertical-align: middle;\n",
       "    }\n",
       "\n",
       "    .dataframe tbody tr th {\n",
       "        vertical-align: top;\n",
       "    }\n",
       "\n",
       "    .dataframe thead th {\n",
       "        text-align: right;\n",
       "    }\n",
       "</style>\n",
       "<table border=\"1\" class=\"dataframe\">\n",
       "  <thead>\n",
       "    <tr style=\"text-align: right;\">\n",
       "      <th></th>\n",
       "      <th>preco</th>\n",
       "      <th>vendido</th>\n",
       "      <th>idade_do_modelo</th>\n",
       "      <th>km_por_ano</th>\n",
       "    </tr>\n",
       "  </thead>\n",
       "  <tbody>\n",
       "    <tr>\n",
       "      <th>0</th>\n",
       "      <td>30941.02</td>\n",
       "      <td>1</td>\n",
       "      <td>18</td>\n",
       "      <td>35085.22134</td>\n",
       "    </tr>\n",
       "    <tr>\n",
       "      <th>1</th>\n",
       "      <td>40557.96</td>\n",
       "      <td>1</td>\n",
       "      <td>20</td>\n",
       "      <td>12622.05362</td>\n",
       "    </tr>\n",
       "    <tr>\n",
       "      <th>2</th>\n",
       "      <td>89627.50</td>\n",
       "      <td>0</td>\n",
       "      <td>12</td>\n",
       "      <td>11440.79806</td>\n",
       "    </tr>\n",
       "    <tr>\n",
       "      <th>3</th>\n",
       "      <td>95276.14</td>\n",
       "      <td>0</td>\n",
       "      <td>3</td>\n",
       "      <td>43167.32682</td>\n",
       "    </tr>\n",
       "    <tr>\n",
       "      <th>4</th>\n",
       "      <td>117384.68</td>\n",
       "      <td>1</td>\n",
       "      <td>4</td>\n",
       "      <td>12770.11290</td>\n",
       "    </tr>\n",
       "  </tbody>\n",
       "</table>\n",
       "</div>"
      ],
      "text/plain": [
       "       preco  vendido  idade_do_modelo   km_por_ano\n",
       "0   30941.02        1               18  35085.22134\n",
       "1   40557.96        1               20  12622.05362\n",
       "2   89627.50        0               12  11440.79806\n",
       "3   95276.14        0                3  43167.32682\n",
       "4  117384.68        1                4  12770.11290"
      ]
     },
     "execution_count": 2,
     "metadata": {},
     "output_type": "execute_result"
    }
   ],
   "source": [
    "import pandas as pd\n",
    "\n",
    "uri = \"https://gist.githubusercontent.com/guilhermesilveira/e99a526b2e7ccc6c3b70f53db43a87d2/raw/1605fc74aa778066bf2e6695e24d53cf65f2f447/machine-learning-carros-simulacao.csv\"\n",
    "dados = pd.read_csv(uri).drop(columns=[\"Unnamed: 0\"], axis=1)\n",
    "dados.head()"
   ]
  },
  {
   "cell_type": "code",
   "execution_count": 3,
   "metadata": {
    "colab": {
     "base_uri": "https://localhost:8080/",
     "height": 204
    },
    "colab_type": "code",
    "id": "b52E4e1hjegN",
    "outputId": "97420810-da24-4bd7-8b8d-242c06aa220a"
   },
   "outputs": [
    {
     "data": {
      "text/html": [
       "<div>\n",
       "<style scoped>\n",
       "    .dataframe tbody tr th:only-of-type {\n",
       "        vertical-align: middle;\n",
       "    }\n",
       "\n",
       "    .dataframe tbody tr th {\n",
       "        vertical-align: top;\n",
       "    }\n",
       "\n",
       "    .dataframe thead th {\n",
       "        text-align: right;\n",
       "    }\n",
       "</style>\n",
       "<table border=\"1\" class=\"dataframe\">\n",
       "  <thead>\n",
       "    <tr style=\"text-align: right;\">\n",
       "      <th></th>\n",
       "      <th>preco</th>\n",
       "      <th>vendido</th>\n",
       "      <th>idade_do_modelo</th>\n",
       "      <th>km_por_ano</th>\n",
       "    </tr>\n",
       "  </thead>\n",
       "  <tbody>\n",
       "    <tr>\n",
       "      <th>4999</th>\n",
       "      <td>74023.29</td>\n",
       "      <td>0</td>\n",
       "      <td>12</td>\n",
       "      <td>24812.80412</td>\n",
       "    </tr>\n",
       "    <tr>\n",
       "      <th>5322</th>\n",
       "      <td>84843.49</td>\n",
       "      <td>0</td>\n",
       "      <td>13</td>\n",
       "      <td>23095.63834</td>\n",
       "    </tr>\n",
       "    <tr>\n",
       "      <th>5319</th>\n",
       "      <td>83100.27</td>\n",
       "      <td>0</td>\n",
       "      <td>19</td>\n",
       "      <td>36240.72746</td>\n",
       "    </tr>\n",
       "    <tr>\n",
       "      <th>5316</th>\n",
       "      <td>87932.13</td>\n",
       "      <td>0</td>\n",
       "      <td>16</td>\n",
       "      <td>32249.56426</td>\n",
       "    </tr>\n",
       "    <tr>\n",
       "      <th>5315</th>\n",
       "      <td>77937.01</td>\n",
       "      <td>0</td>\n",
       "      <td>15</td>\n",
       "      <td>28414.50704</td>\n",
       "    </tr>\n",
       "  </tbody>\n",
       "</table>\n",
       "</div>"
      ],
      "text/plain": [
       "         preco  vendido  idade_do_modelo   km_por_ano\n",
       "4999  74023.29        0               12  24812.80412\n",
       "5322  84843.49        0               13  23095.63834\n",
       "5319  83100.27        0               19  36240.72746\n",
       "5316  87932.13        0               16  32249.56426\n",
       "5315  77937.01        0               15  28414.50704"
      ]
     },
     "execution_count": 3,
     "metadata": {},
     "output_type": "execute_result"
    }
   ],
   "source": [
    "# situação horrível de \"azar\" onde as classes estão ordenadas por padrão\n",
    "\n",
    "dados_azar = dados.sort_values(\"vendido\", ascending=True)\n",
    "x_azar = dados_azar[[\"preco\", \"idade_do_modelo\",\"km_por_ano\"]]\n",
    "y_azar = dados_azar[\"vendido\"]\n",
    "dados_azar.head()"
   ]
  },
  {
   "cell_type": "code",
   "execution_count": 4,
   "metadata": {
    "colab": {},
    "colab_type": "code",
    "id": "ZNT26vFEeYmz"
   },
   "outputs": [
    {
     "name": "stdout",
     "output_type": "stream",
     "text": [
      "Accuracy com dummy stratified, 10 = [49.79, 53.45]\n"
     ]
    },
    {
     "name": "stderr",
     "output_type": "stream",
     "text": [
      "C:\\Users\\Cliente\\anaconda3\\lib\\site-packages\\sklearn\\dummy.py:131: FutureWarning: The default value of strategy will change from stratified to prior in 0.24.\n",
      "  warnings.warn(\"The default value of strategy will change from \"\n"
     ]
    }
   ],
   "source": [
    "from sklearn.model_selection import cross_validate\n",
    "from sklearn.dummy import DummyClassifier\n",
    "import numpy as np\n",
    "\n",
    "SEED = 301\n",
    "np.random.seed(SEED)\n",
    "\n",
    "modelo = DummyClassifier()\n",
    "results = cross_validate(modelo, x_azar, y_azar, cv = 10, return_train_score=False)\n",
    "media = results['test_score'].mean()\n",
    "desvio_padrao = results['test_score'].std()\n",
    "print(\"Accuracy com dummy stratified, 10 = [%.2f, %.2f]\" % ((media - 2 * desvio_padrao)*100, (media + 2 * desvio_padrao) * 100))"
   ]
  },
  {
   "cell_type": "code",
   "execution_count": 5,
   "metadata": {
    "colab": {},
    "colab_type": "code",
    "id": "73mCcFA_eG_K"
   },
   "outputs": [
    {
     "name": "stdout",
     "output_type": "stream",
     "text": [
      "Accuracy com cross validation, 10 = [73.83, 77.73]\n"
     ]
    }
   ],
   "source": [
    "from sklearn.model_selection import cross_validate\n",
    "from sklearn.tree import DecisionTreeClassifier\n",
    "\n",
    "SEED = 301\n",
    "np.random.seed(SEED)\n",
    "\n",
    "modelo = DecisionTreeClassifier(max_depth=2)\n",
    "results = cross_validate(modelo, x_azar, y_azar, cv = 10, return_train_score=False)\n",
    "media = results['test_score'].mean()\n",
    "desvio_padrao = results['test_score'].std()\n",
    "print(\"Accuracy com cross validation, 10 = [%.2f, %.2f]\" % ((media - 2 * desvio_padrao)*100, (media + 2 * desvio_padrao) * 100))"
   ]
  },
  {
   "cell_type": "code",
   "execution_count": 6,
   "metadata": {
    "colab": {},
    "colab_type": "code",
    "id": "5C8Y6J-PGpYf"
   },
   "outputs": [
    {
     "data": {
      "text/html": [
       "<div>\n",
       "<style scoped>\n",
       "    .dataframe tbody tr th:only-of-type {\n",
       "        vertical-align: middle;\n",
       "    }\n",
       "\n",
       "    .dataframe tbody tr th {\n",
       "        vertical-align: top;\n",
       "    }\n",
       "\n",
       "    .dataframe thead th {\n",
       "        text-align: right;\n",
       "    }\n",
       "</style>\n",
       "<table border=\"1\" class=\"dataframe\">\n",
       "  <thead>\n",
       "    <tr style=\"text-align: right;\">\n",
       "      <th></th>\n",
       "      <th>preco</th>\n",
       "      <th>vendido</th>\n",
       "      <th>idade_do_modelo</th>\n",
       "      <th>km_por_ano</th>\n",
       "      <th>modelo</th>\n",
       "    </tr>\n",
       "  </thead>\n",
       "  <tbody>\n",
       "    <tr>\n",
       "      <th>0</th>\n",
       "      <td>30941.02</td>\n",
       "      <td>1</td>\n",
       "      <td>18</td>\n",
       "      <td>35085.22134</td>\n",
       "      <td>18</td>\n",
       "    </tr>\n",
       "    <tr>\n",
       "      <th>1</th>\n",
       "      <td>40557.96</td>\n",
       "      <td>1</td>\n",
       "      <td>20</td>\n",
       "      <td>12622.05362</td>\n",
       "      <td>24</td>\n",
       "    </tr>\n",
       "    <tr>\n",
       "      <th>2</th>\n",
       "      <td>89627.50</td>\n",
       "      <td>0</td>\n",
       "      <td>12</td>\n",
       "      <td>11440.79806</td>\n",
       "      <td>14</td>\n",
       "    </tr>\n",
       "    <tr>\n",
       "      <th>3</th>\n",
       "      <td>95276.14</td>\n",
       "      <td>0</td>\n",
       "      <td>3</td>\n",
       "      <td>43167.32682</td>\n",
       "      <td>6</td>\n",
       "    </tr>\n",
       "    <tr>\n",
       "      <th>4</th>\n",
       "      <td>117384.68</td>\n",
       "      <td>1</td>\n",
       "      <td>4</td>\n",
       "      <td>12770.11290</td>\n",
       "      <td>5</td>\n",
       "    </tr>\n",
       "  </tbody>\n",
       "</table>\n",
       "</div>"
      ],
      "text/plain": [
       "       preco  vendido  idade_do_modelo   km_por_ano  modelo\n",
       "0   30941.02        1               18  35085.22134      18\n",
       "1   40557.96        1               20  12622.05362      24\n",
       "2   89627.50        0               12  11440.79806      14\n",
       "3   95276.14        0                3  43167.32682       6\n",
       "4  117384.68        1                4  12770.11290       5"
      ]
     },
     "execution_count": 6,
     "metadata": {},
     "output_type": "execute_result"
    }
   ],
   "source": [
    "# gerando dados elatorios de modelo de carro para simulacao de agrupamento ao usar nosso estimador\n",
    "\n",
    "np.random.seed(SEED)\n",
    "dados['modelo'] = dados.idade_do_modelo + np.random.randint(-2, 3, size=10000)\n",
    "dados.modelo = dados.modelo + abs(dados.modelo.min()) + 1\n",
    "dados.head()"
   ]
  },
  {
   "cell_type": "code",
   "execution_count": 7,
   "metadata": {
    "colab": {},
    "colab_type": "code",
    "id": "3hmjt7qPHOZY"
   },
   "outputs": [],
   "source": [
    "def imprime_resultados(results):\n",
    "  media = results['test_score'].mean() * 100\n",
    "  desvio = results['test_score'].std() * 100\n",
    "  print(\"Accuracy médio %.2f\" % media)\n",
    "  print(\"Intervalo [%.2f, %.2f]\" % (media - 2 * desvio, media + 2 * desvio))"
   ]
  },
  {
   "cell_type": "code",
   "execution_count": 8,
   "metadata": {
    "colab": {},
    "colab_type": "code",
    "id": "IKD8uaWkNcUL"
   },
   "outputs": [
    {
     "name": "stdout",
     "output_type": "stream",
     "text": [
      "Accuracy médio 75.78\n",
      "Intervalo [73.67, 77.90]\n"
     ]
    }
   ],
   "source": [
    "# GroupKFold para analisar como o modelo se comporta com novos grupos\n",
    "\n",
    "from sklearn.model_selection import GroupKFold\n",
    "\n",
    "SEED = 301\n",
    "np.random.seed(SEED)\n",
    "\n",
    "cv = GroupKFold(n_splits = 10)\n",
    "modelo = DecisionTreeClassifier(max_depth=2)\n",
    "results = cross_validate(modelo, x_azar, y_azar, cv = cv, groups = dados.modelo, return_train_score=False)\n",
    "imprime_resultados(results)"
   ]
  },
  {
   "cell_type": "code",
   "execution_count": 9,
   "metadata": {
    "colab": {},
    "colab_type": "code",
    "id": "goijy0rSS7n-"
   },
   "outputs": [
    {
     "name": "stdout",
     "output_type": "stream",
     "text": [
      "Accuracy médio 76.68\n",
      "Intervalo [74.28, 79.08]\n"
     ]
    }
   ],
   "source": [
    "# GroupKFold em um pipeline com StandardScaler e SVC\n",
    "\n",
    "from sklearn.preprocessing import StandardScaler\n",
    "from sklearn.svm import SVC\n",
    "from sklearn.pipeline import Pipeline\n",
    "\n",
    "SEED = 301\n",
    "np.random.seed(SEED)\n",
    "\n",
    "scaler = StandardScaler()\n",
    "modelo = SVC()\n",
    "\n",
    "pipeline = Pipeline([('transformacao',scaler), ('estimador',modelo)])\n",
    "\n",
    "cv = GroupKFold(n_splits = 10)\n",
    "results = cross_validate(pipeline, x_azar, y_azar, cv = cv, groups = dados.modelo, return_train_score=False)\n",
    "imprime_resultados(results)"
   ]
  },
  {
   "cell_type": "code",
   "execution_count": 10,
   "metadata": {},
   "outputs": [
    {
     "name": "stdout",
     "output_type": "stream",
     "text": [
      "Accuracy médio 75.78\n",
      "Intervalo [73.83, 77.73]\n"
     ]
    }
   ],
   "source": [
    "SEED = 301\n",
    "np.random.seed(SEED)\n",
    "\n",
    "modelo = DecisionTreeClassifier(max_depth=2)\n",
    "results = cross_validate(modelo, x_azar, y_azar, cv = 10, return_train_score=False)\n",
    "imprime_resultados(results)"
   ]
  },
  {
   "cell_type": "code",
   "execution_count": 11,
   "metadata": {},
   "outputs": [
    {
     "data": {
      "image/svg+xml": [
       "<?xml version=\"1.0\" encoding=\"UTF-8\" standalone=\"no\"?>\r\n",
       "<!DOCTYPE svg PUBLIC \"-//W3C//DTD SVG 1.1//EN\"\r\n",
       " \"http://www.w3.org/Graphics/SVG/1.1/DTD/svg11.dtd\">\r\n",
       "<!-- Generated by graphviz version 2.38.0 (20140413.2041)\r\n",
       " -->\r\n",
       "<!-- Title: Tree Pages: 1 -->\r\n",
       "<svg width=\"619pt\" height=\"314pt\"\r\n",
       " viewBox=\"0.00 0.00 619.00 314.00\" xmlns=\"http://www.w3.org/2000/svg\" xmlns:xlink=\"http://www.w3.org/1999/xlink\">\r\n",
       "<g id=\"graph0\" class=\"graph\" transform=\"scale(1 1) rotate(0) translate(4 310)\">\r\n",
       "<title>Tree</title>\r\n",
       "<polygon fill=\"white\" stroke=\"none\" points=\"-4,4 -4,-310 615,-310 615,4 -4,4\"/>\r\n",
       "<!-- 0 -->\r\n",
       "<g id=\"node1\" class=\"node\"><title>0</title>\r\n",
       "<path fill=\"#c8e4f8\" stroke=\"black\" d=\"M356.5,-306C356.5,-306 233.5,-306 233.5,-306 227.5,-306 221.5,-300 221.5,-294 221.5,-294 221.5,-235 221.5,-235 221.5,-229 227.5,-223 233.5,-223 233.5,-223 356.5,-223 356.5,-223 362.5,-223 368.5,-229 368.5,-235 368.5,-235 368.5,-294 368.5,-294 368.5,-300 362.5,-306 356.5,-306\"/>\r\n",
       "<text text-anchor=\"middle\" x=\"295\" y=\"-290.8\" font-family=\"Helvetica,sans-Serif\" font-size=\"14.00\">preco &lt;= 59982.246</text>\r\n",
       "<text text-anchor=\"middle\" x=\"295\" y=\"-275.8\" font-family=\"Helvetica,sans-Serif\" font-size=\"14.00\">gini = 0.487</text>\r\n",
       "<text text-anchor=\"middle\" x=\"295\" y=\"-260.8\" font-family=\"Helvetica,sans-Serif\" font-size=\"14.00\">samples = 10000</text>\r\n",
       "<text text-anchor=\"middle\" x=\"295\" y=\"-245.8\" font-family=\"Helvetica,sans-Serif\" font-size=\"14.00\">value = [4200, 5800]</text>\r\n",
       "<text text-anchor=\"middle\" x=\"295\" y=\"-230.8\" font-family=\"Helvetica,sans-Serif\" font-size=\"14.00\">class = sim</text>\r\n",
       "</g>\r\n",
       "<!-- 1 -->\r\n",
       "<g id=\"node2\" class=\"node\"><title>1</title>\r\n",
       "<path fill=\"#52a9e8\" stroke=\"black\" d=\"M263.5,-187C263.5,-187 140.5,-187 140.5,-187 134.5,-187 128.5,-181 128.5,-175 128.5,-175 128.5,-116 128.5,-116 128.5,-110 134.5,-104 140.5,-104 140.5,-104 263.5,-104 263.5,-104 269.5,-104 275.5,-110 275.5,-116 275.5,-116 275.5,-175 275.5,-175 275.5,-181 269.5,-187 263.5,-187\"/>\r\n",
       "<text text-anchor=\"middle\" x=\"202\" y=\"-171.8\" font-family=\"Helvetica,sans-Serif\" font-size=\"14.00\">preco &lt;= 40083.385</text>\r\n",
       "<text text-anchor=\"middle\" x=\"202\" y=\"-156.8\" font-family=\"Helvetica,sans-Serif\" font-size=\"14.00\">gini = 0.198</text>\r\n",
       "<text text-anchor=\"middle\" x=\"202\" y=\"-141.8\" font-family=\"Helvetica,sans-Serif\" font-size=\"14.00\">samples = 4347</text>\r\n",
       "<text text-anchor=\"middle\" x=\"202\" y=\"-126.8\" font-family=\"Helvetica,sans-Serif\" font-size=\"14.00\">value = [484, 3863]</text>\r\n",
       "<text text-anchor=\"middle\" x=\"202\" y=\"-111.8\" font-family=\"Helvetica,sans-Serif\" font-size=\"14.00\">class = sim</text>\r\n",
       "</g>\r\n",
       "<!-- 0&#45;&gt;1 -->\r\n",
       "<g id=\"edge1\" class=\"edge\"><title>0&#45;&gt;1</title>\r\n",
       "<path fill=\"none\" stroke=\"black\" d=\"M262.734,-222.907C255.593,-213.923 247.956,-204.315 240.591,-195.05\"/>\r\n",
       "<polygon fill=\"black\" stroke=\"black\" points=\"243.171,-192.671 234.209,-187.021 237.691,-197.027 243.171,-192.671\"/>\r\n",
       "<text text-anchor=\"middle\" x=\"231.37\" y=\"-208.159\" font-family=\"Helvetica,sans-Serif\" font-size=\"14.00\">True</text>\r\n",
       "</g>\r\n",
       "<!-- 4 -->\r\n",
       "<g id=\"node5\" class=\"node\"><title>4</title>\r\n",
       "<path fill=\"#f3c3a0\" stroke=\"black\" d=\"M472,-187C472,-187 306,-187 306,-187 300,-187 294,-181 294,-175 294,-175 294,-116 294,-116 294,-110 300,-104 306,-104 306,-104 472,-104 472,-104 478,-104 484,-110 484,-116 484,-116 484,-175 484,-175 484,-181 478,-187 472,-187\"/>\r\n",
       "<text text-anchor=\"middle\" x=\"389\" y=\"-171.8\" font-family=\"Helvetica,sans-Serif\" font-size=\"14.00\">km_por_ano &lt;= 24124.006</text>\r\n",
       "<text text-anchor=\"middle\" x=\"389\" y=\"-156.8\" font-family=\"Helvetica,sans-Serif\" font-size=\"14.00\">gini = 0.45</text>\r\n",
       "<text text-anchor=\"middle\" x=\"389\" y=\"-141.8\" font-family=\"Helvetica,sans-Serif\" font-size=\"14.00\">samples = 5653</text>\r\n",
       "<text text-anchor=\"middle\" x=\"389\" y=\"-126.8\" font-family=\"Helvetica,sans-Serif\" font-size=\"14.00\">value = [3716, 1937]</text>\r\n",
       "<text text-anchor=\"middle\" x=\"389\" y=\"-111.8\" font-family=\"Helvetica,sans-Serif\" font-size=\"14.00\">class = não</text>\r\n",
       "</g>\r\n",
       "<!-- 0&#45;&gt;4 -->\r\n",
       "<g id=\"edge4\" class=\"edge\"><title>0&#45;&gt;4</title>\r\n",
       "<path fill=\"none\" stroke=\"black\" d=\"M327.613,-222.907C334.831,-213.923 342.55,-204.315 349.994,-195.05\"/>\r\n",
       "<polygon fill=\"black\" stroke=\"black\" points=\"352.91,-197.009 356.445,-187.021 347.453,-192.624 352.91,-197.009\"/>\r\n",
       "<text text-anchor=\"middle\" x=\"359.154\" y=\"-208.174\" font-family=\"Helvetica,sans-Serif\" font-size=\"14.00\">False</text>\r\n",
       "</g>\r\n",
       "<!-- 2 -->\r\n",
       "<g id=\"node3\" class=\"node\"><title>2</title>\r\n",
       "<path fill=\"#399de5\" stroke=\"black\" d=\"M110,-68C110,-68 12,-68 12,-68 6,-68 7.10543e-015,-62 7.10543e-015,-56 7.10543e-015,-56 7.10543e-015,-12 7.10543e-015,-12 7.10543e-015,-6 6,-0 12,-0 12,-0 110,-0 110,-0 116,-0 122,-6 122,-12 122,-12 122,-56 122,-56 122,-62 116,-68 110,-68\"/>\r\n",
       "<text text-anchor=\"middle\" x=\"61\" y=\"-52.8\" font-family=\"Helvetica,sans-Serif\" font-size=\"14.00\">gini = 0.0</text>\r\n",
       "<text text-anchor=\"middle\" x=\"61\" y=\"-37.8\" font-family=\"Helvetica,sans-Serif\" font-size=\"14.00\">samples = 1935</text>\r\n",
       "<text text-anchor=\"middle\" x=\"61\" y=\"-22.8\" font-family=\"Helvetica,sans-Serif\" font-size=\"14.00\">value = [0, 1935]</text>\r\n",
       "<text text-anchor=\"middle\" x=\"61\" y=\"-7.8\" font-family=\"Helvetica,sans-Serif\" font-size=\"14.00\">class = sim</text>\r\n",
       "</g>\r\n",
       "<!-- 1&#45;&gt;2 -->\r\n",
       "<g id=\"edge2\" class=\"edge\"><title>1&#45;&gt;2</title>\r\n",
       "<path fill=\"none\" stroke=\"black\" d=\"M149.497,-103.726C137.165,-94.1494 124.046,-83.9611 111.791,-74.4438\"/>\r\n",
       "<polygon fill=\"black\" stroke=\"black\" points=\"113.924,-71.6689 103.879,-68.2996 109.63,-77.1975 113.924,-71.6689\"/>\r\n",
       "</g>\r\n",
       "<!-- 3 -->\r\n",
       "<g id=\"node4\" class=\"node\"><title>3</title>\r\n",
       "<path fill=\"#6bb6ec\" stroke=\"black\" d=\"M266,-68C266,-68 152,-68 152,-68 146,-68 140,-62 140,-56 140,-56 140,-12 140,-12 140,-6 146,-0 152,-0 152,-0 266,-0 266,-0 272,-0 278,-6 278,-12 278,-12 278,-56 278,-56 278,-62 272,-68 266,-68\"/>\r\n",
       "<text text-anchor=\"middle\" x=\"209\" y=\"-52.8\" font-family=\"Helvetica,sans-Serif\" font-size=\"14.00\">gini = 0.321</text>\r\n",
       "<text text-anchor=\"middle\" x=\"209\" y=\"-37.8\" font-family=\"Helvetica,sans-Serif\" font-size=\"14.00\">samples = 2412</text>\r\n",
       "<text text-anchor=\"middle\" x=\"209\" y=\"-22.8\" font-family=\"Helvetica,sans-Serif\" font-size=\"14.00\">value = [484, 1928]</text>\r\n",
       "<text text-anchor=\"middle\" x=\"209\" y=\"-7.8\" font-family=\"Helvetica,sans-Serif\" font-size=\"14.00\">class = sim</text>\r\n",
       "</g>\r\n",
       "<!-- 1&#45;&gt;3 -->\r\n",
       "<g id=\"edge3\" class=\"edge\"><title>1&#45;&gt;3</title>\r\n",
       "<path fill=\"none\" stroke=\"black\" d=\"M204.607,-103.726C205.137,-95.4263 205.697,-86.6671 206.233,-78.2834\"/>\r\n",
       "<polygon fill=\"black\" stroke=\"black\" points=\"209.726,-78.5025 206.871,-68.2996 202.74,-78.0559 209.726,-78.5025\"/>\r\n",
       "</g>\r\n",
       "<!-- 5 -->\r\n",
       "<g id=\"node6\" class=\"node\"><title>5</title>\r\n",
       "<path fill=\"#fcefe5\" stroke=\"black\" d=\"M443,-68C443,-68 321,-68 321,-68 315,-68 309,-62 309,-56 309,-56 309,-12 309,-12 309,-6 315,-0 321,-0 321,-0 443,-0 443,-0 449,-0 455,-6 455,-12 455,-12 455,-56 455,-56 455,-62 449,-68 443,-68\"/>\r\n",
       "<text text-anchor=\"middle\" x=\"382\" y=\"-52.8\" font-family=\"Helvetica,sans-Serif\" font-size=\"14.00\">gini = 0.498</text>\r\n",
       "<text text-anchor=\"middle\" x=\"382\" y=\"-37.8\" font-family=\"Helvetica,sans-Serif\" font-size=\"14.00\">samples = 3513</text>\r\n",
       "<text text-anchor=\"middle\" x=\"382\" y=\"-22.8\" font-family=\"Helvetica,sans-Serif\" font-size=\"14.00\">value = [1879, 1634]</text>\r\n",
       "<text text-anchor=\"middle\" x=\"382\" y=\"-7.8\" font-family=\"Helvetica,sans-Serif\" font-size=\"14.00\">class = não</text>\r\n",
       "</g>\r\n",
       "<!-- 4&#45;&gt;5 -->\r\n",
       "<g id=\"edge5\" class=\"edge\"><title>4&#45;&gt;5</title>\r\n",
       "<path fill=\"none\" stroke=\"black\" d=\"M386.393,-103.726C385.863,-95.4263 385.303,-86.6671 384.767,-78.2834\"/>\r\n",
       "<polygon fill=\"black\" stroke=\"black\" points=\"388.26,-78.0559 384.129,-68.2996 381.274,-78.5025 388.26,-78.0559\"/>\r\n",
       "</g>\r\n",
       "<!-- 6 -->\r\n",
       "<g id=\"node7\" class=\"node\"><title>6</title>\r\n",
       "<path fill=\"#e9965a\" stroke=\"black\" d=\"M599,-68C599,-68 485,-68 485,-68 479,-68 473,-62 473,-56 473,-56 473,-12 473,-12 473,-6 479,-0 485,-0 485,-0 599,-0 599,-0 605,-0 611,-6 611,-12 611,-12 611,-56 611,-56 611,-62 605,-68 599,-68\"/>\r\n",
       "<text text-anchor=\"middle\" x=\"542\" y=\"-52.8\" font-family=\"Helvetica,sans-Serif\" font-size=\"14.00\">gini = 0.243</text>\r\n",
       "<text text-anchor=\"middle\" x=\"542\" y=\"-37.8\" font-family=\"Helvetica,sans-Serif\" font-size=\"14.00\">samples = 2140</text>\r\n",
       "<text text-anchor=\"middle\" x=\"542\" y=\"-22.8\" font-family=\"Helvetica,sans-Serif\" font-size=\"14.00\">value = [1837, 303]</text>\r\n",
       "<text text-anchor=\"middle\" x=\"542\" y=\"-7.8\" font-family=\"Helvetica,sans-Serif\" font-size=\"14.00\">class = não</text>\r\n",
       "</g>\r\n",
       "<!-- 4&#45;&gt;6 -->\r\n",
       "<g id=\"edge6\" class=\"edge\"><title>4&#45;&gt;6</title>\r\n",
       "<path fill=\"none\" stroke=\"black\" d=\"M445.972,-103.726C459.48,-94.0582 473.86,-83.767 487.266,-74.172\"/>\r\n",
       "<polygon fill=\"black\" stroke=\"black\" points=\"489.377,-76.9657 495.472,-68.2996 485.303,-71.2734 489.377,-76.9657\"/>\r\n",
       "</g>\r\n",
       "</g>\r\n",
       "</svg>\r\n"
      ],
      "text/plain": [
       "<graphviz.files.Source at 0x1a38a49adc0>"
      ]
     },
     "execution_count": 11,
     "metadata": {},
     "output_type": "execute_result"
    }
   ],
   "source": [
    "from sklearn.tree import export_graphviz\n",
    "import graphviz\n",
    "\n",
    "modelo.fit(x_azar, y_azar)\n",
    "\n",
    "features = x_azar.columns\n",
    "dot_data = export_graphviz(modelo, out_file=None, filled=True, rounded=True, class_names=['não', 'sim'], feature_names=features)\n",
    "\n",
    "graph = graphviz.Source(dot_data)\n",
    "\n",
    "graph"
   ]
  },
  {
   "cell_type": "code",
   "execution_count": 12,
   "metadata": {},
   "outputs": [
    {
     "name": "stdout",
     "output_type": "stream",
     "text": [
      "Accuracy médio 78.70\n",
      "Intervalo [75.87, 81.53]\n"
     ]
    }
   ],
   "source": [
    "SEED = 301\n",
    "np.random.seed(SEED)\n",
    "\n",
    "modelo = DecisionTreeClassifier(max_depth=3)\n",
    "results = cross_validate(modelo, x_azar, y_azar, cv = 10, return_train_score=False)\n",
    "imprime_resultados(results)"
   ]
  },
  {
   "cell_type": "code",
   "execution_count": 13,
   "metadata": {},
   "outputs": [
    {
     "data": {
      "image/svg+xml": [
       "<?xml version=\"1.0\" encoding=\"UTF-8\" standalone=\"no\"?>\r\n",
       "<!DOCTYPE svg PUBLIC \"-//W3C//DTD SVG 1.1//EN\"\r\n",
       " \"http://www.w3.org/Graphics/SVG/1.1/DTD/svg11.dtd\">\r\n",
       "<!-- Generated by graphviz version 2.38.0 (20140413.2041)\r\n",
       " -->\r\n",
       "<!-- Title: Tree Pages: 1 -->\r\n",
       "<svg width=\"899pt\" height=\"433pt\"\r\n",
       " viewBox=\"0.00 0.00 899.00 433.00\" xmlns=\"http://www.w3.org/2000/svg\" xmlns:xlink=\"http://www.w3.org/1999/xlink\">\r\n",
       "<g id=\"graph0\" class=\"graph\" transform=\"scale(1 1) rotate(0) translate(4 429)\">\r\n",
       "<title>Tree</title>\r\n",
       "<polygon fill=\"white\" stroke=\"none\" points=\"-4,4 -4,-429 895,-429 895,4 -4,4\"/>\r\n",
       "<!-- 0 -->\r\n",
       "<g id=\"node1\" class=\"node\"><title>0</title>\r\n",
       "<path fill=\"#c8e4f8\" stroke=\"black\" d=\"M395.5,-425C395.5,-425 272.5,-425 272.5,-425 266.5,-425 260.5,-419 260.5,-413 260.5,-413 260.5,-354 260.5,-354 260.5,-348 266.5,-342 272.5,-342 272.5,-342 395.5,-342 395.5,-342 401.5,-342 407.5,-348 407.5,-354 407.5,-354 407.5,-413 407.5,-413 407.5,-419 401.5,-425 395.5,-425\"/>\r\n",
       "<text text-anchor=\"middle\" x=\"334\" y=\"-409.8\" font-family=\"Helvetica,sans-Serif\" font-size=\"14.00\">preco &lt;= 59982.246</text>\r\n",
       "<text text-anchor=\"middle\" x=\"334\" y=\"-394.8\" font-family=\"Helvetica,sans-Serif\" font-size=\"14.00\">gini = 0.487</text>\r\n",
       "<text text-anchor=\"middle\" x=\"334\" y=\"-379.8\" font-family=\"Helvetica,sans-Serif\" font-size=\"14.00\">samples = 10000</text>\r\n",
       "<text text-anchor=\"middle\" x=\"334\" y=\"-364.8\" font-family=\"Helvetica,sans-Serif\" font-size=\"14.00\">value = [4200, 5800]</text>\r\n",
       "<text text-anchor=\"middle\" x=\"334\" y=\"-349.8\" font-family=\"Helvetica,sans-Serif\" font-size=\"14.00\">class = sim</text>\r\n",
       "</g>\r\n",
       "<!-- 1 -->\r\n",
       "<g id=\"node2\" class=\"node\"><title>1</title>\r\n",
       "<path fill=\"#52a9e8\" stroke=\"black\" d=\"M275.5,-306C275.5,-306 152.5,-306 152.5,-306 146.5,-306 140.5,-300 140.5,-294 140.5,-294 140.5,-235 140.5,-235 140.5,-229 146.5,-223 152.5,-223 152.5,-223 275.5,-223 275.5,-223 281.5,-223 287.5,-229 287.5,-235 287.5,-235 287.5,-294 287.5,-294 287.5,-300 281.5,-306 275.5,-306\"/>\r\n",
       "<text text-anchor=\"middle\" x=\"214\" y=\"-290.8\" font-family=\"Helvetica,sans-Serif\" font-size=\"14.00\">preco &lt;= 40083.385</text>\r\n",
       "<text text-anchor=\"middle\" x=\"214\" y=\"-275.8\" font-family=\"Helvetica,sans-Serif\" font-size=\"14.00\">gini = 0.198</text>\r\n",
       "<text text-anchor=\"middle\" x=\"214\" y=\"-260.8\" font-family=\"Helvetica,sans-Serif\" font-size=\"14.00\">samples = 4347</text>\r\n",
       "<text text-anchor=\"middle\" x=\"214\" y=\"-245.8\" font-family=\"Helvetica,sans-Serif\" font-size=\"14.00\">value = [484, 3863]</text>\r\n",
       "<text text-anchor=\"middle\" x=\"214\" y=\"-230.8\" font-family=\"Helvetica,sans-Serif\" font-size=\"14.00\">class = sim</text>\r\n",
       "</g>\r\n",
       "<!-- 0&#45;&gt;1 -->\r\n",
       "<g id=\"edge1\" class=\"edge\"><title>0&#45;&gt;1</title>\r\n",
       "<path fill=\"none\" stroke=\"black\" d=\"M292.367,-341.907C282.873,-332.651 272.7,-322.732 262.932,-313.209\"/>\r\n",
       "<polygon fill=\"black\" stroke=\"black\" points=\"265.163,-310.496 255.56,-306.021 260.276,-315.508 265.163,-310.496\"/>\r\n",
       "<text text-anchor=\"middle\" x=\"255.876\" y=\"-327.319\" font-family=\"Helvetica,sans-Serif\" font-size=\"14.00\">True</text>\r\n",
       "</g>\r\n",
       "<!-- 6 -->\r\n",
       "<g id=\"node7\" class=\"node\"><title>6</title>\r\n",
       "<path fill=\"#f3c3a0\" stroke=\"black\" d=\"M538,-306C538,-306 372,-306 372,-306 366,-306 360,-300 360,-294 360,-294 360,-235 360,-235 360,-229 366,-223 372,-223 372,-223 538,-223 538,-223 544,-223 550,-229 550,-235 550,-235 550,-294 550,-294 550,-300 544,-306 538,-306\"/>\r\n",
       "<text text-anchor=\"middle\" x=\"455\" y=\"-290.8\" font-family=\"Helvetica,sans-Serif\" font-size=\"14.00\">km_por_ano &lt;= 24124.006</text>\r\n",
       "<text text-anchor=\"middle\" x=\"455\" y=\"-275.8\" font-family=\"Helvetica,sans-Serif\" font-size=\"14.00\">gini = 0.45</text>\r\n",
       "<text text-anchor=\"middle\" x=\"455\" y=\"-260.8\" font-family=\"Helvetica,sans-Serif\" font-size=\"14.00\">samples = 5653</text>\r\n",
       "<text text-anchor=\"middle\" x=\"455\" y=\"-245.8\" font-family=\"Helvetica,sans-Serif\" font-size=\"14.00\">value = [3716, 1937]</text>\r\n",
       "<text text-anchor=\"middle\" x=\"455\" y=\"-230.8\" font-family=\"Helvetica,sans-Serif\" font-size=\"14.00\">class = não</text>\r\n",
       "</g>\r\n",
       "<!-- 0&#45;&gt;6 -->\r\n",
       "<g id=\"edge6\" class=\"edge\"><title>0&#45;&gt;6</title>\r\n",
       "<path fill=\"none\" stroke=\"black\" d=\"M375.98,-341.907C385.553,-332.651 395.811,-322.732 405.66,-313.209\"/>\r\n",
       "<polygon fill=\"black\" stroke=\"black\" points=\"408.338,-315.488 413.094,-306.021 403.472,-310.456 408.338,-315.488\"/>\r\n",
       "<text text-anchor=\"middle\" x=\"412.674\" y=\"-327.317\" font-family=\"Helvetica,sans-Serif\" font-size=\"14.00\">False</text>\r\n",
       "</g>\r\n",
       "<!-- 2 -->\r\n",
       "<g id=\"node3\" class=\"node\"><title>2</title>\r\n",
       "<path fill=\"#399de5\" stroke=\"black\" d=\"M110,-179.5C110,-179.5 12,-179.5 12,-179.5 6,-179.5 7.10543e-015,-173.5 7.10543e-015,-167.5 7.10543e-015,-167.5 7.10543e-015,-123.5 7.10543e-015,-123.5 7.10543e-015,-117.5 6,-111.5 12,-111.5 12,-111.5 110,-111.5 110,-111.5 116,-111.5 122,-117.5 122,-123.5 122,-123.5 122,-167.5 122,-167.5 122,-173.5 116,-179.5 110,-179.5\"/>\r\n",
       "<text text-anchor=\"middle\" x=\"61\" y=\"-164.3\" font-family=\"Helvetica,sans-Serif\" font-size=\"14.00\">gini = 0.0</text>\r\n",
       "<text text-anchor=\"middle\" x=\"61\" y=\"-149.3\" font-family=\"Helvetica,sans-Serif\" font-size=\"14.00\">samples = 1935</text>\r\n",
       "<text text-anchor=\"middle\" x=\"61\" y=\"-134.3\" font-family=\"Helvetica,sans-Serif\" font-size=\"14.00\">value = [0, 1935]</text>\r\n",
       "<text text-anchor=\"middle\" x=\"61\" y=\"-119.3\" font-family=\"Helvetica,sans-Serif\" font-size=\"14.00\">class = sim</text>\r\n",
       "</g>\r\n",
       "<!-- 1&#45;&gt;2 -->\r\n",
       "<g id=\"edge2\" class=\"edge\"><title>1&#45;&gt;2</title>\r\n",
       "<path fill=\"none\" stroke=\"black\" d=\"M160.917,-222.907C145.189,-210.88 127.999,-197.735 112.38,-185.791\"/>\r\n",
       "<polygon fill=\"black\" stroke=\"black\" points=\"114.442,-182.961 104.372,-179.667 110.19,-188.522 114.442,-182.961\"/>\r\n",
       "</g>\r\n",
       "<!-- 3 -->\r\n",
       "<g id=\"node4\" class=\"node\"><title>3</title>\r\n",
       "<path fill=\"#6bb6ec\" stroke=\"black\" d=\"M275.5,-187C275.5,-187 152.5,-187 152.5,-187 146.5,-187 140.5,-181 140.5,-175 140.5,-175 140.5,-116 140.5,-116 140.5,-110 146.5,-104 152.5,-104 152.5,-104 275.5,-104 275.5,-104 281.5,-104 287.5,-110 287.5,-116 287.5,-116 287.5,-175 287.5,-175 287.5,-181 281.5,-187 275.5,-187\"/>\r\n",
       "<text text-anchor=\"middle\" x=\"214\" y=\"-171.8\" font-family=\"Helvetica,sans-Serif\" font-size=\"14.00\">preco &lt;= 41083.029</text>\r\n",
       "<text text-anchor=\"middle\" x=\"214\" y=\"-156.8\" font-family=\"Helvetica,sans-Serif\" font-size=\"14.00\">gini = 0.321</text>\r\n",
       "<text text-anchor=\"middle\" x=\"214\" y=\"-141.8\" font-family=\"Helvetica,sans-Serif\" font-size=\"14.00\">samples = 2412</text>\r\n",
       "<text text-anchor=\"middle\" x=\"214\" y=\"-126.8\" font-family=\"Helvetica,sans-Serif\" font-size=\"14.00\">value = [484, 1928]</text>\r\n",
       "<text text-anchor=\"middle\" x=\"214\" y=\"-111.8\" font-family=\"Helvetica,sans-Serif\" font-size=\"14.00\">class = sim</text>\r\n",
       "</g>\r\n",
       "<!-- 1&#45;&gt;3 -->\r\n",
       "<g id=\"edge3\" class=\"edge\"><title>1&#45;&gt;3</title>\r\n",
       "<path fill=\"none\" stroke=\"black\" d=\"M214,-222.907C214,-214.649 214,-205.864 214,-197.302\"/>\r\n",
       "<polygon fill=\"black\" stroke=\"black\" points=\"217.5,-197.021 214,-187.021 210.5,-197.021 217.5,-197.021\"/>\r\n",
       "</g>\r\n",
       "<!-- 4 -->\r\n",
       "<g id=\"node5\" class=\"node\"><title>4</title>\r\n",
       "<path fill=\"#95cbf1\" stroke=\"black\" d=\"M114.5,-68C114.5,-68 25.5,-68 25.5,-68 19.5,-68 13.5,-62 13.5,-56 13.5,-56 13.5,-12 13.5,-12 13.5,-6 19.5,-0 25.5,-0 25.5,-0 114.5,-0 114.5,-0 120.5,-0 126.5,-6 126.5,-12 126.5,-12 126.5,-56 126.5,-56 126.5,-62 120.5,-68 114.5,-68\"/>\r\n",
       "<text text-anchor=\"middle\" x=\"70\" y=\"-52.8\" font-family=\"Helvetica,sans-Serif\" font-size=\"14.00\">gini = 0.434</text>\r\n",
       "<text text-anchor=\"middle\" x=\"70\" y=\"-37.8\" font-family=\"Helvetica,sans-Serif\" font-size=\"14.00\">samples = 110</text>\r\n",
       "<text text-anchor=\"middle\" x=\"70\" y=\"-22.8\" font-family=\"Helvetica,sans-Serif\" font-size=\"14.00\">value = [35, 75]</text>\r\n",
       "<text text-anchor=\"middle\" x=\"70\" y=\"-7.8\" font-family=\"Helvetica,sans-Serif\" font-size=\"14.00\">class = sim</text>\r\n",
       "</g>\r\n",
       "<!-- 3&#45;&gt;4 -->\r\n",
       "<g id=\"edge4\" class=\"edge\"><title>3&#45;&gt;4</title>\r\n",
       "<path fill=\"none\" stroke=\"black\" d=\"M160.38,-103.726C147.785,-94.1494 134.387,-83.9611 121.871,-74.4438\"/>\r\n",
       "<polygon fill=\"black\" stroke=\"black\" points=\"123.87,-71.5666 113.791,-68.2996 119.633,-77.1386 123.87,-71.5666\"/>\r\n",
       "</g>\r\n",
       "<!-- 5 -->\r\n",
       "<g id=\"node6\" class=\"node\"><title>5</title>\r\n",
       "<path fill=\"#69b5eb\" stroke=\"black\" d=\"M271,-68C271,-68 157,-68 157,-68 151,-68 145,-62 145,-56 145,-56 145,-12 145,-12 145,-6 151,-0 157,-0 157,-0 271,-0 271,-0 277,-0 283,-6 283,-12 283,-12 283,-56 283,-56 283,-62 277,-68 271,-68\"/>\r\n",
       "<text text-anchor=\"middle\" x=\"214\" y=\"-52.8\" font-family=\"Helvetica,sans-Serif\" font-size=\"14.00\">gini = 0.314</text>\r\n",
       "<text text-anchor=\"middle\" x=\"214\" y=\"-37.8\" font-family=\"Helvetica,sans-Serif\" font-size=\"14.00\">samples = 2302</text>\r\n",
       "<text text-anchor=\"middle\" x=\"214\" y=\"-22.8\" font-family=\"Helvetica,sans-Serif\" font-size=\"14.00\">value = [449, 1853]</text>\r\n",
       "<text text-anchor=\"middle\" x=\"214\" y=\"-7.8\" font-family=\"Helvetica,sans-Serif\" font-size=\"14.00\">class = sim</text>\r\n",
       "</g>\r\n",
       "<!-- 3&#45;&gt;5 -->\r\n",
       "<g id=\"edge5\" class=\"edge\"><title>3&#45;&gt;5</title>\r\n",
       "<path fill=\"none\" stroke=\"black\" d=\"M214,-103.726C214,-95.5175 214,-86.8595 214,-78.56\"/>\r\n",
       "<polygon fill=\"black\" stroke=\"black\" points=\"217.5,-78.2996 214,-68.2996 210.5,-78.2996 217.5,-78.2996\"/>\r\n",
       "</g>\r\n",
       "<!-- 7 -->\r\n",
       "<g id=\"node8\" class=\"node\"><title>7</title>\r\n",
       "<path fill=\"#fcefe5\" stroke=\"black\" d=\"M516,-187C516,-187 394,-187 394,-187 388,-187 382,-181 382,-175 382,-175 382,-116 382,-116 382,-110 388,-104 394,-104 394,-104 516,-104 516,-104 522,-104 528,-110 528,-116 528,-116 528,-175 528,-175 528,-181 522,-187 516,-187\"/>\r\n",
       "<text text-anchor=\"middle\" x=\"455\" y=\"-171.8\" font-family=\"Helvetica,sans-Serif\" font-size=\"14.00\">preco &lt;= 99974.41</text>\r\n",
       "<text text-anchor=\"middle\" x=\"455\" y=\"-156.8\" font-family=\"Helvetica,sans-Serif\" font-size=\"14.00\">gini = 0.498</text>\r\n",
       "<text text-anchor=\"middle\" x=\"455\" y=\"-141.8\" font-family=\"Helvetica,sans-Serif\" font-size=\"14.00\">samples = 3513</text>\r\n",
       "<text text-anchor=\"middle\" x=\"455\" y=\"-126.8\" font-family=\"Helvetica,sans-Serif\" font-size=\"14.00\">value = [1879, 1634]</text>\r\n",
       "<text text-anchor=\"middle\" x=\"455\" y=\"-111.8\" font-family=\"Helvetica,sans-Serif\" font-size=\"14.00\">class = não</text>\r\n",
       "</g>\r\n",
       "<!-- 6&#45;&gt;7 -->\r\n",
       "<g id=\"edge7\" class=\"edge\"><title>6&#45;&gt;7</title>\r\n",
       "<path fill=\"none\" stroke=\"black\" d=\"M455,-222.907C455,-214.649 455,-205.864 455,-197.302\"/>\r\n",
       "<polygon fill=\"black\" stroke=\"black\" points=\"458.5,-197.021 455,-187.021 451.5,-197.021 458.5,-197.021\"/>\r\n",
       "</g>\r\n",
       "<!-- 10 -->\r\n",
       "<g id=\"node11\" class=\"node\"><title>10</title>\r\n",
       "<path fill=\"#e9965a\" stroke=\"black\" d=\"M743.5,-187C743.5,-187 612.5,-187 612.5,-187 606.5,-187 600.5,-181 600.5,-175 600.5,-175 600.5,-116 600.5,-116 600.5,-110 606.5,-104 612.5,-104 612.5,-104 743.5,-104 743.5,-104 749.5,-104 755.5,-110 755.5,-116 755.5,-116 755.5,-175 755.5,-175 755.5,-181 749.5,-187 743.5,-187\"/>\r\n",
       "<text text-anchor=\"middle\" x=\"678\" y=\"-171.8\" font-family=\"Helvetica,sans-Serif\" font-size=\"14.00\">preco &lt;= 100076.957</text>\r\n",
       "<text text-anchor=\"middle\" x=\"678\" y=\"-156.8\" font-family=\"Helvetica,sans-Serif\" font-size=\"14.00\">gini = 0.243</text>\r\n",
       "<text text-anchor=\"middle\" x=\"678\" y=\"-141.8\" font-family=\"Helvetica,sans-Serif\" font-size=\"14.00\">samples = 2140</text>\r\n",
       "<text text-anchor=\"middle\" x=\"678\" y=\"-126.8\" font-family=\"Helvetica,sans-Serif\" font-size=\"14.00\">value = [1837, 303]</text>\r\n",
       "<text text-anchor=\"middle\" x=\"678\" y=\"-111.8\" font-family=\"Helvetica,sans-Serif\" font-size=\"14.00\">class = não</text>\r\n",
       "</g>\r\n",
       "<!-- 6&#45;&gt;10 -->\r\n",
       "<g id=\"edge10\" class=\"edge\"><title>6&#45;&gt;10</title>\r\n",
       "<path fill=\"none\" stroke=\"black\" d=\"M532.369,-222.907C551.568,-212.834 572.262,-201.977 591.854,-191.698\"/>\r\n",
       "<polygon fill=\"black\" stroke=\"black\" points=\"593.539,-194.766 600.768,-187.021 590.287,-188.568 593.539,-194.766\"/>\r\n",
       "</g>\r\n",
       "<!-- 8 -->\r\n",
       "<g id=\"node9\" class=\"node\"><title>8</title>\r\n",
       "<path fill=\"#f9e0ce\" stroke=\"black\" d=\"M435,-68C435,-68 313,-68 313,-68 307,-68 301,-62 301,-56 301,-56 301,-12 301,-12 301,-6 307,-0 313,-0 313,-0 435,-0 435,-0 441,-0 447,-6 447,-12 447,-12 447,-56 447,-56 447,-62 441,-68 435,-68\"/>\r\n",
       "<text text-anchor=\"middle\" x=\"374\" y=\"-52.8\" font-family=\"Helvetica,sans-Serif\" font-size=\"14.00\">gini = 0.49</text>\r\n",
       "<text text-anchor=\"middle\" x=\"374\" y=\"-37.8\" font-family=\"Helvetica,sans-Serif\" font-size=\"14.00\">samples = 2944</text>\r\n",
       "<text text-anchor=\"middle\" x=\"374\" y=\"-22.8\" font-family=\"Helvetica,sans-Serif\" font-size=\"14.00\">value = [1682, 1262]</text>\r\n",
       "<text text-anchor=\"middle\" x=\"374\" y=\"-7.8\" font-family=\"Helvetica,sans-Serif\" font-size=\"14.00\">class = não</text>\r\n",
       "</g>\r\n",
       "<!-- 7&#45;&gt;8 -->\r\n",
       "<g id=\"edge8\" class=\"edge\"><title>7&#45;&gt;8</title>\r\n",
       "<path fill=\"none\" stroke=\"black\" d=\"M424.839,-103.726C418.227,-94.7878 411.221,-85.3168 404.592,-76.3558\"/>\r\n",
       "<polygon fill=\"black\" stroke=\"black\" points=\"407.393,-74.2576 398.633,-68.2996 401.766,-78.4206 407.393,-74.2576\"/>\r\n",
       "</g>\r\n",
       "<!-- 9 -->\r\n",
       "<g id=\"node10\" class=\"node\"><title>9</title>\r\n",
       "<path fill=\"#a2d1f3\" stroke=\"black\" d=\"M583,-68C583,-68 477,-68 477,-68 471,-68 465,-62 465,-56 465,-56 465,-12 465,-12 465,-6 471,-0 477,-0 477,-0 583,-0 583,-0 589,-0 595,-6 595,-12 595,-12 595,-56 595,-56 595,-62 589,-68 583,-68\"/>\r\n",
       "<text text-anchor=\"middle\" x=\"530\" y=\"-52.8\" font-family=\"Helvetica,sans-Serif\" font-size=\"14.00\">gini = 0.453</text>\r\n",
       "<text text-anchor=\"middle\" x=\"530\" y=\"-37.8\" font-family=\"Helvetica,sans-Serif\" font-size=\"14.00\">samples = 569</text>\r\n",
       "<text text-anchor=\"middle\" x=\"530\" y=\"-22.8\" font-family=\"Helvetica,sans-Serif\" font-size=\"14.00\">value = [197, 372]</text>\r\n",
       "<text text-anchor=\"middle\" x=\"530\" y=\"-7.8\" font-family=\"Helvetica,sans-Serif\" font-size=\"14.00\">class = sim</text>\r\n",
       "</g>\r\n",
       "<!-- 7&#45;&gt;9 -->\r\n",
       "<g id=\"edge9\" class=\"edge\"><title>7&#45;&gt;9</title>\r\n",
       "<path fill=\"none\" stroke=\"black\" d=\"M482.927,-103.726C488.987,-94.879 495.404,-85.51 501.486,-76.6303\"/>\r\n",
       "<polygon fill=\"black\" stroke=\"black\" points=\"504.429,-78.5277 507.192,-68.2996 498.654,-74.5721 504.429,-78.5277\"/>\r\n",
       "</g>\r\n",
       "<!-- 11 -->\r\n",
       "<g id=\"node12\" class=\"node\"><title>11</title>\r\n",
       "<path fill=\"#e68742\" stroke=\"black\" d=\"M731,-68C731,-68 625,-68 625,-68 619,-68 613,-62 613,-56 613,-56 613,-12 613,-12 613,-6 619,-0 625,-0 625,-0 731,-0 731,-0 737,-0 743,-6 743,-12 743,-12 743,-56 743,-56 743,-62 737,-68 731,-68\"/>\r\n",
       "<text text-anchor=\"middle\" x=\"678\" y=\"-52.8\" font-family=\"Helvetica,sans-Serif\" font-size=\"14.00\">gini = 0.082</text>\r\n",
       "<text text-anchor=\"middle\" x=\"678\" y=\"-37.8\" font-family=\"Helvetica,sans-Serif\" font-size=\"14.00\">samples = 1809</text>\r\n",
       "<text text-anchor=\"middle\" x=\"678\" y=\"-22.8\" font-family=\"Helvetica,sans-Serif\" font-size=\"14.00\">value = [1732, 77]</text>\r\n",
       "<text text-anchor=\"middle\" x=\"678\" y=\"-7.8\" font-family=\"Helvetica,sans-Serif\" font-size=\"14.00\">class = não</text>\r\n",
       "</g>\r\n",
       "<!-- 10&#45;&gt;11 -->\r\n",
       "<g id=\"edge11\" class=\"edge\"><title>10&#45;&gt;11</title>\r\n",
       "<path fill=\"none\" stroke=\"black\" d=\"M678,-103.726C678,-95.5175 678,-86.8595 678,-78.56\"/>\r\n",
       "<polygon fill=\"black\" stroke=\"black\" points=\"681.5,-78.2996 678,-68.2996 674.5,-78.2996 681.5,-78.2996\"/>\r\n",
       "</g>\r\n",
       "<!-- 12 -->\r\n",
       "<g id=\"node13\" class=\"node\"><title>12</title>\r\n",
       "<path fill=\"#95cbf1\" stroke=\"black\" d=\"M879,-68C879,-68 773,-68 773,-68 767,-68 761,-62 761,-56 761,-56 761,-12 761,-12 761,-6 767,-0 773,-0 773,-0 879,-0 879,-0 885,-0 891,-6 891,-12 891,-12 891,-56 891,-56 891,-62 885,-68 879,-68\"/>\r\n",
       "<text text-anchor=\"middle\" x=\"826\" y=\"-52.8\" font-family=\"Helvetica,sans-Serif\" font-size=\"14.00\">gini = 0.433</text>\r\n",
       "<text text-anchor=\"middle\" x=\"826\" y=\"-37.8\" font-family=\"Helvetica,sans-Serif\" font-size=\"14.00\">samples = 331</text>\r\n",
       "<text text-anchor=\"middle\" x=\"826\" y=\"-22.8\" font-family=\"Helvetica,sans-Serif\" font-size=\"14.00\">value = [105, 226]</text>\r\n",
       "<text text-anchor=\"middle\" x=\"826\" y=\"-7.8\" font-family=\"Helvetica,sans-Serif\" font-size=\"14.00\">class = sim</text>\r\n",
       "</g>\r\n",
       "<!-- 10&#45;&gt;12 -->\r\n",
       "<g id=\"edge12\" class=\"edge\"><title>10&#45;&gt;12</title>\r\n",
       "<path fill=\"none\" stroke=\"black\" d=\"M733.11,-103.726C746.054,-94.1494 759.824,-83.9611 772.688,-74.4438\"/>\r\n",
       "<polygon fill=\"black\" stroke=\"black\" points=\"775.035,-77.061 780.992,-68.2996 770.872,-71.4337 775.035,-77.061\"/>\r\n",
       "</g>\r\n",
       "</g>\r\n",
       "</svg>\r\n"
      ],
      "text/plain": [
       "<graphviz.files.Source at 0x1a38a4bf940>"
      ]
     },
     "execution_count": 13,
     "metadata": {},
     "output_type": "execute_result"
    }
   ],
   "source": [
    "modelo.fit(x_azar, y_azar)\n",
    "\n",
    "features = x_azar.columns\n",
    "dot_data = export_graphviz(modelo, out_file=None, filled=True, rounded=True, class_names=['não', 'sim'], feature_names=features)\n",
    "\n",
    "graph = graphviz.Source(dot_data)\n",
    "\n",
    "graph"
   ]
  },
  {
   "cell_type": "code",
   "execution_count": 14,
   "metadata": {},
   "outputs": [
    {
     "name": "stdout",
     "output_type": "stream",
     "text": [
      "Accuracy médio 77.03\n",
      "Intervalo [73.81, 80.25]\n"
     ]
    }
   ],
   "source": [
    "SEED = 301\n",
    "np.random.seed(SEED)\n",
    "\n",
    "modelo = DecisionTreeClassifier(max_depth=10)\n",
    "results = cross_validate(modelo, x_azar, y_azar, cv = 10, return_train_score=False)\n",
    "imprime_resultados(results)"
   ]
  },
  {
   "cell_type": "markdown",
   "metadata": {},
   "source": [
    "## Testando parâmetros de otimização"
   ]
  },
  {
   "cell_type": "markdown",
   "metadata": {},
   "source": [
    "### Explorando parâmetros em 1 dimensão"
   ]
  },
  {
   "cell_type": "code",
   "execution_count": 15,
   "metadata": {},
   "outputs": [],
   "source": [
    "def roda_arvore_decisao(max_depth):\n",
    "    SEED = 301\n",
    "    np.random.seed(SEED)\n",
    "\n",
    "    modelo = DecisionTreeClassifier(max_depth=max_depth)\n",
    "    results = cross_validate(modelo, x_azar, y_azar, cv = 10, return_train_score=True)\n",
    "    train_score = results['train_score'].mean() * 100\n",
    "    test_score = results['test_score'].mean() * 100\n",
    "    print(\"Max_Depth: {}, Média_Treino: {:.2f}%, Média_Teste: {:.2f}%\".format(max_depth, train_score, test_score))\n",
    "    \n",
    "    tabela = [max_depth, train_score, test_score]\n",
    "    return tabela"
   ]
  },
  {
   "cell_type": "code",
   "execution_count": 16,
   "metadata": {},
   "outputs": [
    {
     "name": "stdout",
     "output_type": "stream",
     "text": [
      "Max_Depth: 1, Média_Treino: 75.79%, Média_Teste: 75.78%\n",
      "Max_Depth: 2, Média_Treino: 75.79%, Média_Teste: 75.78%\n",
      "Max_Depth: 3, Média_Treino: 78.75%, Média_Teste: 78.70%\n",
      "Max_Depth: 4, Média_Treino: 78.80%, Média_Teste: 78.63%\n",
      "Max_Depth: 5, Média_Treino: 78.97%, Média_Teste: 78.56%\n",
      "Max_Depth: 6, Média_Treino: 79.19%, Média_Teste: 78.49%\n",
      "Max_Depth: 7, Média_Treino: 79.44%, Média_Teste: 78.04%\n",
      "Max_Depth: 8, Média_Treino: 79.81%, Média_Teste: 77.83%\n",
      "Max_Depth: 9, Média_Treino: 80.36%, Média_Teste: 77.55%\n",
      "Max_Depth: 10, Média_Treino: 80.99%, Média_Teste: 77.03%\n",
      "Max_Depth: 11, Média_Treino: 81.79%, Média_Teste: 76.30%\n",
      "Max_Depth: 12, Média_Treino: 82.64%, Média_Teste: 76.15%\n",
      "Max_Depth: 13, Média_Treino: 83.56%, Média_Teste: 75.71%\n",
      "Max_Depth: 14, Média_Treino: 84.56%, Média_Teste: 75.40%\n",
      "Max_Depth: 15, Média_Treino: 85.62%, Média_Teste: 75.32%\n",
      "Max_Depth: 16, Média_Treino: 86.75%, Média_Teste: 75.09%\n",
      "Max_Depth: 17, Média_Treino: 87.80%, Média_Teste: 74.92%\n",
      "Max_Depth: 18, Média_Treino: 88.81%, Média_Teste: 74.82%\n",
      "Max_Depth: 19, Média_Treino: 89.85%, Média_Teste: 74.04%\n",
      "Max_Depth: 20, Média_Treino: 90.84%, Média_Teste: 74.15%\n",
      "Max_Depth: 21, Média_Treino: 91.80%, Média_Teste: 73.81%\n",
      "Max_Depth: 22, Média_Treino: 92.70%, Média_Teste: 73.92%\n",
      "Max_Depth: 23, Média_Treino: 93.48%, Média_Teste: 73.78%\n",
      "Max_Depth: 24, Média_Treino: 94.27%, Média_Teste: 73.48%\n",
      "Max_Depth: 25, Média_Treino: 95.04%, Média_Teste: 73.18%\n",
      "Max_Depth: 26, Média_Treino: 95.73%, Média_Teste: 72.99%\n",
      "Max_Depth: 27, Média_Treino: 96.25%, Média_Teste: 73.19%\n",
      "Max_Depth: 28, Média_Treino: 96.84%, Média_Teste: 72.78%\n",
      "Max_Depth: 29, Média_Treino: 97.28%, Média_Teste: 72.85%\n",
      "Max_Depth: 30, Média_Treino: 97.65%, Média_Teste: 72.33%\n",
      "Max_Depth: 31, Média_Treino: 98.03%, Média_Teste: 72.58%\n",
      "Max_Depth: 32, Média_Treino: 98.26%, Média_Teste: 72.42%\n"
     ]
    }
   ],
   "source": [
    "resultados_lista = [roda_arvore_decisao(i) for i in range(1, 33)]"
   ]
  },
  {
   "cell_type": "code",
   "execution_count": 17,
   "metadata": {},
   "outputs": [
    {
     "data": {
      "text/html": [
       "<div>\n",
       "<style scoped>\n",
       "    .dataframe tbody tr th:only-of-type {\n",
       "        vertical-align: middle;\n",
       "    }\n",
       "\n",
       "    .dataframe tbody tr th {\n",
       "        vertical-align: top;\n",
       "    }\n",
       "\n",
       "    .dataframe thead th {\n",
       "        text-align: right;\n",
       "    }\n",
       "</style>\n",
       "<table border=\"1\" class=\"dataframe\">\n",
       "  <thead>\n",
       "    <tr style=\"text-align: right;\">\n",
       "      <th></th>\n",
       "      <th>max_depth</th>\n",
       "      <th>train_score</th>\n",
       "      <th>test_score</th>\n",
       "    </tr>\n",
       "  </thead>\n",
       "  <tbody>\n",
       "    <tr>\n",
       "      <th>0</th>\n",
       "      <td>1</td>\n",
       "      <td>75.791111</td>\n",
       "      <td>75.78</td>\n",
       "    </tr>\n",
       "    <tr>\n",
       "      <th>1</th>\n",
       "      <td>2</td>\n",
       "      <td>75.791111</td>\n",
       "      <td>75.78</td>\n",
       "    </tr>\n",
       "    <tr>\n",
       "      <th>2</th>\n",
       "      <td>3</td>\n",
       "      <td>78.754444</td>\n",
       "      <td>78.70</td>\n",
       "    </tr>\n",
       "    <tr>\n",
       "      <th>3</th>\n",
       "      <td>4</td>\n",
       "      <td>78.800000</td>\n",
       "      <td>78.63</td>\n",
       "    </tr>\n",
       "    <tr>\n",
       "      <th>4</th>\n",
       "      <td>5</td>\n",
       "      <td>78.965556</td>\n",
       "      <td>78.56</td>\n",
       "    </tr>\n",
       "  </tbody>\n",
       "</table>\n",
       "</div>"
      ],
      "text/plain": [
       "   max_depth  train_score  test_score\n",
       "0          1    75.791111       75.78\n",
       "1          2    75.791111       75.78\n",
       "2          3    78.754444       78.70\n",
       "3          4    78.800000       78.63\n",
       "4          5    78.965556       78.56"
      ]
     },
     "execution_count": 17,
     "metadata": {},
     "output_type": "execute_result"
    }
   ],
   "source": [
    "resultados = pd.DataFrame(resultados_lista, columns=['max_depth', 'train_score', 'test_score'])\n",
    "\n",
    "resultados.head()"
   ]
  },
  {
   "cell_type": "code",
   "execution_count": null,
   "metadata": {},
   "outputs": [],
   "source": [
    "import seaborn as sns\n",
    "import plotly.graph_objects as go\n",
    "import matplotlib.pyplot as plt\n",
    "\n",
    "plt.figure(figsize=(10,8))\n",
    "sns.lineplot(data=resultados, x=\"max_depth\", y=\"train_score\")"
   ]
  },
  {
   "cell_type": "code",
   "execution_count": null,
   "metadata": {},
   "outputs": [],
   "source": [
    "plt.figure(figsize=(10,8))\n",
    "sns.lineplot(data=resultados, x=\"max_depth\", y=\"test_score\")"
   ]
  },
  {
   "cell_type": "code",
   "execution_count": null,
   "metadata": {},
   "outputs": [],
   "source": [
    "plt.figure(figsize=(10,8))\n",
    "sns.lineplot(data=resultados, x=\"max_depth\", y=\"train_score\")\n",
    "sns.lineplot(data=resultados, x=\"max_depth\", y=\"test_score\")\n",
    "plt.legend([\"Treino\", \"Teste\"])"
   ]
  },
  {
   "cell_type": "code",
   "execution_count": null,
   "metadata": {},
   "outputs": [],
   "source": [
    "max_depth_plot = resultados.max_depth.values\n",
    "train_score_plot = resultados.train_score.values\n",
    "test_score_plot = resultados.test_score.values\n",
    "\n",
    "fig = go.Figure()\n",
    "\n",
    "fig.add_trace(go.Scatter(x=max_depth_plot, y=train_score_plot))\n",
    "fig.add_trace(go.Scatter(x=max_depth_plot, y=test_score_plot))\n",
    "\n",
    "fig.show()"
   ]
  },
  {
   "cell_type": "code",
   "execution_count": null,
   "metadata": {},
   "outputs": [],
   "source": [
    "resultados.sort_values('test_score', ascending=False).head()"
   ]
  },
  {
   "cell_type": "markdown",
   "metadata": {},
   "source": [
    "### Explorando parâmetros em 2 dimensões"
   ]
  },
  {
   "cell_type": "code",
   "execution_count": null,
   "metadata": {},
   "outputs": [],
   "source": [
    "def roda_arvore_decisao(max_depth, min_samples_leaf):\n",
    "    SEED = 301\n",
    "    np.random.seed(SEED)\n",
    "\n",
    "    modelo = DecisionTreeClassifier(max_depth=max_depth, min_samples_leaf=min_samples_leaf)\n",
    "    results = cross_validate(modelo, x_azar, y_azar, cv = 10, return_train_score=True)\n",
    "    train_score = results['train_score'].mean() * 100\n",
    "    test_score = results['test_score'].mean() * 100\n",
    "    print(\"Max_Depth: {}, Min_Samples_Leaf: {}, Média_Treino: {:.2f}%, Média_Teste: {:.2f}%\".format(max_depth, min_samples_leaf, train_score, test_score))\n",
    "    \n",
    "    tabela = [max_depth, min_samples_leaf, train_score, test_score]\n",
    "    return tabela"
   ]
  },
  {
   "cell_type": "code",
   "execution_count": null,
   "metadata": {},
   "outputs": [],
   "source": [
    "resultados = []\n",
    "\n",
    "for max_depth in range(1, 33):\n",
    "    for min_samples_leaf in [32, 64, 128, 256]:\n",
    "        tabela = roda_arvore_decisao(max_depth, min_samples_leaf)\n",
    "        resultados.append(tabela)"
   ]
  },
  {
   "cell_type": "code",
   "execution_count": null,
   "metadata": {},
   "outputs": [],
   "source": [
    "resultados = pd.DataFrame(resultados, columns=['max_depth', 'min_samples_leaf', 'train_score', 'test_score'])\n",
    "\n",
    "resultados.head()"
   ]
  },
  {
   "cell_type": "code",
   "execution_count": null,
   "metadata": {},
   "outputs": [],
   "source": [
    "resultados.sort_values('test_score', ascending=False).head()"
   ]
  },
  {
   "cell_type": "code",
   "execution_count": null,
   "metadata": {},
   "outputs": [],
   "source": [
    "resultados.corr()"
   ]
  },
  {
   "cell_type": "code",
   "execution_count": null,
   "metadata": {},
   "outputs": [],
   "source": [
    "plt.figure(figsize=(12,10))\n",
    "sns.heatmap(resultados.corr(), annot=True, fmt='.1f')"
   ]
  },
  {
   "cell_type": "code",
   "execution_count": null,
   "metadata": {},
   "outputs": [],
   "source": [
    "sns.pairplot(resultados)"
   ]
  },
  {
   "cell_type": "code",
   "execution_count": null,
   "metadata": {},
   "outputs": [],
   "source": [
    "resultados = []\n",
    "\n",
    "for max_depth in range(1, 33):\n",
    "    for min_samples_leaf in [128, 192, 256, 512]:\n",
    "        tabela = roda_arvore_decisao(max_depth, min_samples_leaf)\n",
    "        resultados.append(tabela)\n",
    "        \n",
    "resultados = pd.DataFrame(resultados, columns=['max_depth', 'min_samples_leaf', 'train_score', 'test_score'])\n",
    "\n",
    "resultados.head()"
   ]
  },
  {
   "cell_type": "code",
   "execution_count": null,
   "metadata": {},
   "outputs": [],
   "source": [
    "corr = resultados.corr()\n",
    "\n",
    "sns.set(style=\"white\")\n",
    "\n",
    "mask = np.zeros_like(corr, dtype=np.bool)\n",
    "mask[np.triu_indices_from(mask)] = True\n",
    "\n",
    "plt.figure(figsize=(11,9))\n",
    "\n",
    "cmap = sns.diverging_palette(220, 10, as_cmap=True)\n",
    "\n",
    "sns.heatmap(corr, annot=True, mask=mask, cmap=cmap, vmax=.3, center=0, square=True, linewidths=.5, cbar_kws={\"shrink\": .5})"
   ]
  },
  {
   "cell_type": "code",
   "execution_count": null,
   "metadata": {},
   "outputs": [],
   "source": [
    "resultados.sort_values('test_score', ascending=False).head()"
   ]
  },
  {
   "cell_type": "markdown",
   "metadata": {},
   "source": [
    "### Explorando 3 parâmetros"
   ]
  },
  {
   "cell_type": "code",
   "execution_count": null,
   "metadata": {},
   "outputs": [],
   "source": [
    "def roda_arvore_decisao(max_depth, min_samples_leaf, min_samples_split):\n",
    "    SEED = 301\n",
    "    np.random.seed(SEED)\n",
    "\n",
    "    modelo = DecisionTreeClassifier(max_depth=max_depth, min_samples_leaf=min_samples_leaf, min_samples_split=min_samples_split)\n",
    "    results = cross_validate(modelo, x_azar, y_azar, cv = 10, return_train_score=True)\n",
    "    fit_time = results['fit_time'].mean()\n",
    "    score_time = results['score_time'].mean()\n",
    "    train_score = results['train_score'].mean() * 100\n",
    "    test_score = results['test_score'].mean() * 100\n",
    "    print(\"Max_Depth: {}, Min_Samples_Leaf: {}, Min_Samples_Split: {}, Média_Treino: {:.2f}%, Média_Teste: {:.2f}%\".format(max_depth, min_samples_leaf, min_samples_split, train_score, test_score))\n",
    "    \n",
    "    tabela = [max_depth, min_samples_leaf, min_samples_split, train_score, test_score, fit_time, score_time]\n",
    "    return tabela\n",
    "\n",
    "resultados = []\n",
    "\n",
    "for max_depth in range(1, 20):\n",
    "    for min_samples_leaf in [128, 192, 256]:\n",
    "        for min_samples_split in [32, 64, 128, 256]:\n",
    "            tabela = roda_arvore_decisao(max_depth, min_samples_leaf, min_samples_split)\n",
    "            resultados.append(tabela)\n",
    "            \n",
    "resultados = pd.DataFrame(resultados, columns=['max_depth', 'min_samples_leaf', 'min_samples_split', 'train_score', 'test_score', 'fit_time', 'score_time'])\n",
    "\n",
    "resultados.head()"
   ]
  },
  {
   "cell_type": "code",
   "execution_count": null,
   "metadata": {},
   "outputs": [],
   "source": [
    "resultados.sort_values('test_score', ascending=False).head()"
   ]
  },
  {
   "cell_type": "code",
   "execution_count": null,
   "metadata": {},
   "outputs": [],
   "source": [
    "corr = resultados.corr()\n",
    "\n",
    "sns.set(style=\"white\")\n",
    "\n",
    "mask = np.zeros_like(corr, dtype=np.bool)\n",
    "mask[np.triu_indices_from(mask)] = True\n",
    "\n",
    "plt.figure(figsize=(11,9))\n",
    "\n",
    "cmap = sns.diverging_palette(220, 10, as_cmap=True)\n",
    "\n",
    "sns.heatmap(corr, annot=True, mask=mask, cmap=cmap, vmax=.3, center=0, square=True, linewidths=.5, cbar_kws={\"shrink\": .5})"
   ]
  },
  {
   "cell_type": "markdown",
   "metadata": {},
   "source": [
    "## Usando o GridSearchCV para otimização"
   ]
  },
  {
   "cell_type": "code",
   "execution_count": null,
   "metadata": {},
   "outputs": [],
   "source": [
    "from sklearn.model_selection import GridSearchCV\n",
    "\n",
    "SEED = 301\n",
    "np.random.seed(SEED)\n",
    "\n",
    "espaco_parametros = {\n",
    "    \"max_depth\" : [3,4,5],\n",
    "    \"min_samples_split\" : [32, 64, 128],\n",
    "    \"min_samples_leaf\" : [128, 192, 256],\n",
    "    \"criterion\" : [\"gini\", \"entropy\"]\n",
    "}\n",
    "\n",
    "busca = GridSearchCV(DecisionTreeClassifier(), espaco_parametros, cv=GroupKFold(n_splits=10))\n",
    "\n",
    "busca.fit(x_azar, y_azar, groups=dados.modelo)\n",
    "\n",
    "resultados = pd.DataFrame(busca.cv_results_)\n",
    "\n",
    "resultados.head()"
   ]
  },
  {
   "cell_type": "code",
   "execution_count": null,
   "metadata": {},
   "outputs": [],
   "source": [
    "resultados.sort_values(\"mean_test_score\", ascending=False).head()"
   ]
  },
  {
   "cell_type": "code",
   "execution_count": null,
   "metadata": {},
   "outputs": [],
   "source": [
    "busca.best_params_"
   ]
  },
  {
   "cell_type": "code",
   "execution_count": null,
   "metadata": {},
   "outputs": [],
   "source": [
    "busca.best_score_"
   ]
  },
  {
   "cell_type": "code",
   "execution_count": null,
   "metadata": {},
   "outputs": [],
   "source": [
    "melhor_modelo = busca.best_estimator_\n",
    "melhor_modelo"
   ]
  },
  {
   "cell_type": "code",
   "execution_count": null,
   "metadata": {},
   "outputs": [],
   "source": [
    "# Evitar essa abordagem por ser muito otimista\n",
    "\n",
    "melhor_modelo.score(x_azar, y_azar)"
   ]
  },
  {
   "cell_type": "markdown",
   "metadata": {},
   "source": [
    "## Como ter uma estimativa sem esse vício nos dados que já foram vistos?\n",
    "\n",
    "No Cross Validation com busca de hiper parâmetro, fazemos uma nova validação cruzada. Chama-se nested cross validation"
   ]
  },
  {
   "cell_type": "code",
   "execution_count": null,
   "metadata": {},
   "outputs": [],
   "source": [
    "# from sklearn.model_selection import cross_val_score\n",
    "\n",
    "# scores = cross_val_score(busca, x_azar, y_azar, cv=GroupKFold(n_splits=10), groups=dados.modelo)"
   ]
  },
  {
   "cell_type": "markdown",
   "metadata": {},
   "source": [
    "Isso retorna um erro, pois o Pandas não funciona em nested cross validation com o GroupKFold"
   ]
  },
  {
   "cell_type": "markdown",
   "metadata": {},
   "source": [
    "##### Vamos usar o KFold normal para esse teste"
   ]
  },
  {
   "cell_type": "code",
   "execution_count": null,
   "metadata": {},
   "outputs": [],
   "source": [
    "from sklearn.model_selection import KFold\n",
    "\n",
    "SEED = 301\n",
    "np.random.seed(SEED)\n",
    "\n",
    "espaco_parametros = {\n",
    "    \"max_depth\" : [3,4,5],\n",
    "    \"min_samples_split\" : [32, 64, 128],\n",
    "    \"min_samples_leaf\" : [128, 192, 256],\n",
    "    \"criterion\" : [\"gini\", \"entropy\"]\n",
    "}\n",
    "\n",
    "# Alteração do modelo de CV\n",
    "busca = GridSearchCV(DecisionTreeClassifier(), espaco_parametros, cv=KFold(n_splits=5, shuffle=True))\n",
    "\n",
    "# Remoção do grupos\n",
    "busca.fit(x_azar, y_azar)\n",
    "\n",
    "resultados = pd.DataFrame(busca.cv_results_)\n",
    "\n",
    "resultados.head()"
   ]
  },
  {
   "cell_type": "code",
   "execution_count": null,
   "metadata": {},
   "outputs": [],
   "source": [
    "from sklearn.model_selection import cross_val_score\n",
    "\n",
    "scores = cross_val_score(busca, x_azar, y_azar, cv=KFold(n_splits=5, shuffle=True))\n",
    "\n",
    "scores"
   ]
  },
  {
   "cell_type": "code",
   "execution_count": null,
   "metadata": {},
   "outputs": [],
   "source": [
    "def imprime_scores(scores):\n",
    "    media = scores.mean() * 100\n",
    "    desvio = scores.std() * 100\n",
    "    print(\"Accuracy Médio {:.2f}%\".format(media))\n",
    "    print(\"Intervalo: {:.2f}% a {:.2f}%\".format((media - 2*desvio), (media + 2*desvio)))"
   ]
  },
  {
   "cell_type": "code",
   "execution_count": null,
   "metadata": {},
   "outputs": [],
   "source": [
    "imprime_scores(scores)"
   ]
  },
  {
   "cell_type": "code",
   "execution_count": null,
   "metadata": {},
   "outputs": [],
   "source": [
    "busca.best_estimator_"
   ]
  },
  {
   "cell_type": "code",
   "execution_count": null,
   "metadata": {},
   "outputs": [],
   "source": [
    "features = x_azar.columns\n",
    "dot_data = export_graphviz(melhor_modelo, out_file=None, filled=True, rounded=True, class_names=['não', 'sim'], feature_names=features)\n",
    "\n",
    "graph = graphviz.Source(dot_data)\n",
    "\n",
    "graph"
   ]
  }
 ],
 "metadata": {
  "colab": {
   "collapsed_sections": [],
   "name": "Introdução_a_Machine_Learning_Otimização.ipynb",
   "provenance": [],
   "version": "0.3.2"
  },
  "kernelspec": {
   "display_name": "Python 3",
   "language": "python",
   "name": "python3"
  },
  "language_info": {
   "codemirror_mode": {
    "name": "ipython",
    "version": 3
   },
   "file_extension": ".py",
   "mimetype": "text/x-python",
   "name": "python",
   "nbconvert_exporter": "python",
   "pygments_lexer": "ipython3",
   "version": "3.8.5"
  }
 },
 "nbformat": 4,
 "nbformat_minor": 1
}
